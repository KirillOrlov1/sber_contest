{
 "cells": [
  {
   "cell_type": "markdown",
   "id": "3f6d72d8",
   "metadata": {},
   "source": [
    "# read data + dummies + nan to mean"
   ]
  },
  {
   "cell_type": "markdown",
   "id": "20397acd",
   "metadata": {},
   "source": [
    "- единственную категориальную фичу решил закодировать как dummie фичу, нежели присвоить значения 1, 2 и 3, чтобы они не вносили вклад в модель \n",
    "- семплы с пропущнными значениями решил не удалять, а заменить на средние по фиче, чтобы не терять данные, в особенности семплы со значением таргета 1"
   ]
  },
  {
   "cell_type": "code",
   "execution_count": 133,
   "id": "25d22125",
   "metadata": {},
   "outputs": [],
   "source": [
    "import pandas as pd\n",
    "import numpy as np\n",
    "from sklearn.impute import SimpleImputer\n",
    "from imblearn.under_sampling import NearMiss\n",
    "from imblearn.over_sampling import ADASYN\n",
    "from sklearn.model_selection import cross_val_score, GridSearchCV\n",
    "from sklearn.neighbors import KNeighborsClassifier\n",
    "import matplotlib.pyplot as plt\n",
    "from sklearn.linear_model import LogisticRegression\n",
    "from sklearn.preprocessing import StandardScaler\n",
    "from sklearn.tree import DecisionTreeClassifier\n",
    "from sklearn.ensemble import RandomForestClassifier"
   ]
  },
  {
   "cell_type": "code",
   "execution_count": 106,
   "id": "c387babd",
   "metadata": {},
   "outputs": [],
   "source": [
    "train_df = pd.read_csv('data/PD-data-train.csv', sep=';')\n",
    "test_df = pd.read_csv('data/PD-data-test.csv', sep=';')\n",
    "desc_df = pd.read_csv('data/PD-data-desc.csv', sep=';')"
   ]
  },
  {
   "cell_type": "code",
   "execution_count": 107,
   "id": "209a522f",
   "metadata": {},
   "outputs": [],
   "source": [
    "train_df = pd.concat([train_df.drop(columns=['ul_staff_range']), pd.get_dummies(data=train_df['ul_staff_range'])], axis=1)\n",
    "test_df = pd.concat([test_df.drop(columns=['ul_staff_range']), pd.get_dummies(data=test_df['ul_staff_range'])], axis=1)"
   ]
  },
  {
   "cell_type": "code",
   "execution_count": 108,
   "id": "f9287a3c",
   "metadata": {},
   "outputs": [],
   "source": [
    "train_cols = train_df.columns\n",
    "test_cols = test_df.columns"
   ]
  },
  {
   "cell_type": "code",
   "execution_count": 109,
   "id": "671ab7b1",
   "metadata": {},
   "outputs": [],
   "source": [
    "imp_mean = SimpleImputer(missing_values=np.nan, strategy='mean')\n",
    "train_df = pd.DataFrame(imp_mean.fit_transform(train_df), columns=train_cols)\n",
    "test_df = pd.DataFrame(imp_mean.fit_transform(test_df), columns=test_cols)"
   ]
  },
  {
   "cell_type": "code",
   "execution_count": 110,
   "id": "a8b3a2b7",
   "metadata": {},
   "outputs": [
    {
     "data": {
      "text/plain": [
       "(30304, 2091)"
      ]
     },
     "execution_count": 110,
     "metadata": {},
     "output_type": "execute_result"
    }
   ],
   "source": [
    "train_df[train_df['default_12m'] == 0].shape[0], train_df[train_df['default_12m'] == 1].shape[0]"
   ]
  },
  {
   "cell_type": "markdown",
   "id": "b43f121b",
   "metadata": {},
   "source": [
    "# solve class-disnalance problem ('cause acc_score on test)"
   ]
  },
  {
   "cell_type": "markdown",
   "id": "fc48ad8a",
   "metadata": {},
   "source": [
    "## oversampling"
   ]
  },
  {
   "cell_type": "markdown",
   "id": "0ca13485",
   "metadata": {},
   "source": [
    "самый обычный оверсемплинг, копирование одних и тех же семплов, пока не будет достигнут примерный баланс классов"
   ]
  },
  {
   "cell_type": "code",
   "execution_count": 8,
   "id": "02b12f50",
   "metadata": {},
   "outputs": [
    {
     "data": {
      "text/plain": [
       "(30304, 39)"
      ]
     },
     "execution_count": 8,
     "metadata": {},
     "output_type": "execute_result"
    }
   ],
   "source": [
    "zeros = train_df[train_df['default_12m'] == 0].copy()\n",
    "zeros.shape"
   ]
  },
  {
   "cell_type": "code",
   "execution_count": 9,
   "id": "077a5894",
   "metadata": {},
   "outputs": [
    {
     "data": {
      "text/plain": [
       "(2091, 39)"
      ]
     },
     "execution_count": 9,
     "metadata": {},
     "output_type": "execute_result"
    }
   ],
   "source": [
    "ones = train_df[train_df['default_12m'] == 1].copy()\n",
    "ones.shape"
   ]
  },
  {
   "cell_type": "code",
   "execution_count": 10,
   "id": "35e24074",
   "metadata": {},
   "outputs": [],
   "source": [
    "cache = ones.copy()\n",
    "for _ in range(14):\n",
    "    ones = pd.concat([ones, cache], axis=0, ignore_index=True)"
   ]
  },
  {
   "cell_type": "code",
   "execution_count": 11,
   "id": "1e93342f",
   "metadata": {},
   "outputs": [],
   "source": [
    "ones = ones.reset_index(drop=True)"
   ]
  },
  {
   "cell_type": "code",
   "execution_count": 12,
   "id": "25bf8a3d",
   "metadata": {},
   "outputs": [],
   "source": [
    "overs_train = pd.concat([zeros, ones], axis=0).sample(frac=1).reset_index(drop=True)"
   ]
  },
  {
   "cell_type": "code",
   "execution_count": 13,
   "id": "14c1f68e",
   "metadata": {},
   "outputs": [
    {
     "data": {
      "text/plain": [
       "(61669, 39)"
      ]
     },
     "execution_count": 13,
     "metadata": {},
     "output_type": "execute_result"
    }
   ],
   "source": [
    "overs_train.shape"
   ]
  },
  {
   "cell_type": "markdown",
   "id": "1bcb11a6",
   "metadata": {},
   "source": [
    "## Undersampling"
   ]
  },
  {
   "cell_type": "markdown",
   "id": "801748ba",
   "metadata": {},
   "source": [
    "в качестве обычного андерсемплинга решил не рандомно выбрать семплы из превалирующего класса, а рассмотреть все подвыборки, чтобы не потерять важных семплов"
   ]
  },
  {
   "cell_type": "code",
   "execution_count": 14,
   "id": "de784d2e",
   "metadata": {},
   "outputs": [
    {
     "data": {
      "text/plain": [
       "(2091, 39)"
      ]
     },
     "execution_count": 14,
     "metadata": {},
     "output_type": "execute_result"
    }
   ],
   "source": [
    "ones_unders = train_df[train_df['default_12m'] == 1].copy()\n",
    "ones_unders.shape"
   ]
  },
  {
   "cell_type": "code",
   "execution_count": 15,
   "id": "41a719ae",
   "metadata": {},
   "outputs": [],
   "source": [
    "list_zeros = list()\n",
    "zeros = train_df[train_df['default_12m'] == 0].copy()\n",
    "\n",
    "s = 0\n",
    "while s != 30000:\n",
    "    list_zeros.append(zeros.iloc[s:s+2000, :])\n",
    "    s += 2000"
   ]
  },
  {
   "cell_type": "code",
   "execution_count": 16,
   "id": "7fd74ed0",
   "metadata": {},
   "outputs": [
    {
     "data": {
      "text/plain": [
       "(15, (2000, 39))"
      ]
     },
     "execution_count": 16,
     "metadata": {},
     "output_type": "execute_result"
    }
   ],
   "source": [
    "len(list_zeros), list_zeros[0].shape"
   ]
  },
  {
   "cell_type": "markdown",
   "id": "06e680c9",
   "metadata": {},
   "source": [
    "## Nearmiss v1"
   ]
  },
  {
   "cell_type": "markdown",
   "id": "826bb53e",
   "metadata": {},
   "source": [
    "из большего класса выбираем объекты, у которых среднее расстояний до N ближайших малого класса наименьшее"
   ]
  },
  {
   "cell_type": "code",
   "execution_count": 17,
   "id": "c862a004",
   "metadata": {},
   "outputs": [],
   "source": [
    "nm = NearMiss()"
   ]
  },
  {
   "cell_type": "code",
   "execution_count": 18,
   "id": "9c504f63",
   "metadata": {},
   "outputs": [],
   "source": [
    "X_nm, y_nm = nm.fit_resample(train_df.drop(columns=['default_12m']), train_df['default_12m'])"
   ]
  },
  {
   "cell_type": "code",
   "execution_count": 19,
   "id": "b7340f1d",
   "metadata": {},
   "outputs": [
    {
     "data": {
      "text/plain": [
       "(2091, 2091)"
      ]
     },
     "execution_count": 19,
     "metadata": {},
     "output_type": "execute_result"
    }
   ],
   "source": [
    "sum(y_nm == 0), sum(y_nm == 1)"
   ]
  },
  {
   "cell_type": "markdown",
   "id": "1c2e313f",
   "metadata": {},
   "source": [
    "## ADASYN (SMOTE like algorithm)"
   ]
  },
  {
   "attachments": {
    "image.png": {
     "image/png": "[encoded data removed]"
    }
   },
   "cell_type": "markdown",
   "id": "04b28e40",
   "metadata": {},
   "source": [
    "почему-то со smote тут были проблемы, и он наоборот делал андерсемплинг, выбрал adasyn, ибо это примерно то же самое: берем пары объектов меньшего класса, между ними генерируем новые в количестве пропорциональном объектам большего класса поблизости\n",
    "\n",
    "![image.png](attachment:image.png)"
   ]
  },
  {
   "cell_type": "code",
   "execution_count": 20,
   "id": "8f211c26",
   "metadata": {},
   "outputs": [
    {
     "data": {
      "text/plain": [
       "(30304, 2091)"
      ]
     },
     "execution_count": 20,
     "metadata": {},
     "output_type": "execute_result"
    }
   ],
   "source": [
    "sum(train_df['default_12m'] == 0), sum(train_df['default_12m'] == 1)"
   ]
  },
  {
   "cell_type": "code",
   "execution_count": 21,
   "id": "7b9d530b",
   "metadata": {},
   "outputs": [],
   "source": [
    "ada = ADASYN(random_state=42)\n",
    "X_ada, y_ada = ada.fit_resample(train_df.drop(columns=['default_12m']), train_df['default_12m'])"
   ]
  },
  {
   "cell_type": "code",
   "execution_count": 22,
   "id": "1a7c1d9c",
   "metadata": {},
   "outputs": [
    {
     "data": {
      "text/plain": [
       "(30304, 30246)"
      ]
     },
     "execution_count": 22,
     "metadata": {},
     "output_type": "execute_result"
    }
   ],
   "source": [
    "sum(y_ada == 0), sum(y_ada == 1)"
   ]
  },
  {
   "cell_type": "markdown",
   "id": "2dec8976",
   "metadata": {},
   "source": [
    "# train models"
   ]
  },
  {
   "cell_type": "markdown",
   "id": "39f43e03",
   "metadata": {},
   "source": [
    "здесь просто берем базовые модели мл, тестируем их на всех вариантах данных, и сабмитим лучшие "
   ]
  },
  {
   "cell_type": "markdown",
   "id": "f8fb376d",
   "metadata": {},
   "source": [
    "## knn, best test score 0.555"
   ]
  },
  {
   "cell_type": "code",
   "execution_count": 23,
   "id": "d84ef3dc",
   "metadata": {},
   "outputs": [
    {
     "name": "stdout",
     "output_type": "stream",
     "text": [
      "oversampling knn: 0.9029\n",
      "undersampling 14 knn: 0.7974\n",
      "nearmiss knn: 0.6686\n",
      "adasyn knn: 0.6608\n"
     ]
    }
   ],
   "source": [
    "# oversampling\n",
    "data = overs_train\n",
    "x, y = data.drop(columns=['default_12m']), data['default_12m']\n",
    "res = np.mean(cross_val_score(KNeighborsClassifier(), x, y, scoring='accuracy'))\n",
    "print(f'oversampling knn: {round(res, 4)}')\n",
    "\n",
    "# undersampling\n",
    "res = 0\n",
    "idz = -1\n",
    "for i in range(15):\n",
    "    data = pd.concat([ones_unders, list_zeros[i]], axis=0).sample(frac=1).reset_index(drop=True)\n",
    "    x, y = data.drop(columns=['default_12m']), data['default_12m']\n",
    "    acc = np.mean(cross_val_score(KNeighborsClassifier(), x, y, scoring='accuracy'))\n",
    "    if acc > res:\n",
    "        res = acc\n",
    "        idx = i\n",
    "print(f'undersampling {i} knn: {round(res, 4)}')\n",
    "\n",
    "# nearmiss v1\n",
    "res = np.mean(cross_val_score(KNeighborsClassifier(), X_nm, y_nm, scoring='accuracy'))\n",
    "print(f'nearmiss knn: {round(res, 4)}')\n",
    "\n",
    "# adasyn\n",
    "res = np.mean(cross_val_score(KNeighborsClassifier(), X_ada, y_ada, scoring='accuracy'))\n",
    "print(f'adasyn knn: {round(res, 4)}')"
   ]
  },
  {
   "cell_type": "code",
   "execution_count": 24,
   "id": "c4ca8613",
   "metadata": {},
   "outputs": [
    {
     "name": "stdout",
     "output_type": "stream",
     "text": [
      "96.39 %\n"
     ]
    }
   ],
   "source": [
    "model = KNeighborsClassifier()\n",
    "params = {\n",
    "    'n_neighbors': [2, 3, 4, 5, 6, 7, 8, 9, 10],\n",
    "    'weights': ['uniform', 'distance'],\n",
    "    'algorithm': ['auto', 'ball_tree', 'kd_tree', 'brute']\n",
    "}\n",
    "gcv = GridSearchCV(model, param_grid=params, scoring='accuracy', n_jobs=-1)\n",
    "data = overs_train\n",
    "x, y = data.drop(columns=['default_12m']), data['default_12m']\n",
    "gcv.fit(x, y)\n",
    "model = gcv.best_estimator_\n",
    "print(round(gcv.best_score_, 4) * 100, '%')"
   ]
  },
  {
   "cell_type": "code",
   "execution_count": 25,
   "id": "9bcc5d4b",
   "metadata": {},
   "outputs": [],
   "source": [
    "preds = model.predict(test_df)\n",
    "ans = pd.concat([test_df['record_id'], pd.DataFrame(preds)], axis=1)"
   ]
  },
  {
   "cell_type": "code",
   "execution_count": 26,
   "id": "3a203985",
   "metadata": {},
   "outputs": [],
   "source": [
    "ans.columns = ['id', 'predict']\n",
    "ans = ans.astype(int)"
   ]
  },
  {
   "cell_type": "code",
   "execution_count": 27,
   "id": "f92d0aad",
   "metadata": {},
   "outputs": [],
   "source": [
    "ans.to_csv('knn_oversampling.csv', index=False, sep=';')"
   ]
  },
  {
   "cell_type": "markdown",
   "id": "783e9b13",
   "metadata": {},
   "source": [
    "## Decision tree, best test score 0.54"
   ]
  },
  {
   "cell_type": "code",
   "execution_count": 127,
   "id": "9c465a6d",
   "metadata": {},
   "outputs": [
    {
     "data": {
      "text/plain": [
       "0.707856150640531"
      ]
     },
     "execution_count": 127,
     "metadata": {},
     "output_type": "execute_result"
    }
   ],
   "source": [
    "clf = DecisionTreeClassifier(random_state=0)\n",
    "np.mean(cross_val_score(clf, train_df.drop(columns=['default_12m']), train_df['default_12m'], cv=5, scoring='accuracy'))"
   ]
  },
  {
   "cell_type": "code",
   "execution_count": 128,
   "id": "4a398e40",
   "metadata": {},
   "outputs": [
    {
     "name": "stdout",
     "output_type": "stream",
     "text": [
      "oversampling tree: 0.9641\n",
      "undersampling 14 tree: 0.9423\n",
      "nearmiss tree: 0.644\n",
      "adasyn tree: 0.6557\n"
     ]
    }
   ],
   "source": [
    "# oversampling\n",
    "data = overs_train\n",
    "x, y = data.drop(columns=['default_12m']), data['default_12m']\n",
    "res = np.mean(cross_val_score(DecisionTreeClassifier(), x, y, scoring='accuracy'))\n",
    "print(f'oversampling tree: {round(res, 4)}')\n",
    "\n",
    "# undersampling\n",
    "res = 0\n",
    "idz = -1\n",
    "for i in range(15):\n",
    "    data = pd.concat([ones_unders, list_zeros[i]], axis=0).sample(frac=1).reset_index(drop=True)\n",
    "    x, y = data.drop(columns=['default_12m']), data['default_12m']\n",
    "    acc = np.mean(cross_val_score(DecisionTreeClassifier(), x, y, scoring='accuracy'))\n",
    "    if acc > res:\n",
    "        res = acc\n",
    "        idx = i\n",
    "print(f'undersampling {i} tree: {round(res, 4)}')\n",
    "\n",
    "# nearmiss v1\n",
    "res = np.mean(cross_val_score(DecisionTreeClassifier(), X_nm, y_nm, scoring='accuracy'))\n",
    "print(f'nearmiss tree: {round(res, 4)}')\n",
    "\n",
    "# adasyn\n",
    "res = np.mean(cross_val_score(DecisionTreeClassifier(), X_ada, y_ada, scoring='accuracy'))\n",
    "print(f'adasyn tree: {round(res, 4)}')"
   ]
  },
  {
   "cell_type": "code",
   "execution_count": 130,
   "id": "6424079c",
   "metadata": {},
   "outputs": [
    {
     "name": "stdout",
     "output_type": "stream",
     "text": [
      "96.49 %\n"
     ]
    }
   ],
   "source": [
    "model = DecisionTreeClassifier()\n",
    "params = {\n",
    "    'criterion': ['gini', 'entropy', 'log_loss'],\n",
    "    'min_samples_split': list(range(2, 11)),\n",
    "    'min_samples_leaf': list(range(1, 11))\n",
    "}\n",
    "gcv = GridSearchCV(model, param_grid=params, scoring='accuracy', n_jobs=-1)\n",
    "data = overs_train\n",
    "x, y = data.drop(columns=['default_12m']), data['default_12m']\n",
    "gcv.fit(x, y)\n",
    "model = gcv.best_estimator_\n",
    "print(round(gcv.best_score_, 4) * 100, '%')"
   ]
  },
  {
   "cell_type": "code",
   "execution_count": 132,
   "id": "5064e547",
   "metadata": {},
   "outputs": [],
   "source": [
    "preds = model.predict(test_df)\n",
    "ans = pd.concat([test_df['record_id'], pd.DataFrame(preds)], axis=1)\n",
    "ans.columns = ['id', 'predict']\n",
    "ans = ans.astype(int)\n",
    "ans.to_csv('tree_oversampling.csv', index=False, sep=';')"
   ]
  },
  {
   "cell_type": "markdown",
   "id": "38a08ec0",
   "metadata": {},
   "source": [
    "## Random forest, 0.525 test score"
   ]
  },
  {
   "cell_type": "code",
   "execution_count": null,
   "id": "72c00501",
   "metadata": {},
   "outputs": [],
   "source": [
    "# simple data random forest "
   ]
  },
  {
   "cell_type": "code",
   "execution_count": 137,
   "id": "426ef8fe",
   "metadata": {
    "scrolled": true
   },
   "outputs": [
    {
     "data": {
      "text/html": [
       "<style>#sk-container-id-13 {color: black;background-color: white;}#sk-container-id-13 pre{padding: 0;}#sk-container-id-13 div.sk-toggleable {background-color: white;}#sk-container-id-13 label.sk-toggleable__label {cursor: pointer;display: block;width: 100%;margin-bottom: 0;padding: 0.3em;box-sizing: border-box;text-align: center;}#sk-container-id-13 label.sk-toggleable__label-arrow:before {content: \"▸\";float: left;margin-right: 0.25em;color: #696969;}#sk-container-id-13 label.sk-toggleable__label-arrow:hover:before {color: black;}#sk-container-id-13 div.sk-estimator:hover label.sk-toggleable__label-arrow:before {color: black;}#sk-container-id-13 div.sk-toggleable__content {max-height: 0;max-width: 0;overflow: hidden;text-align: left;background-color: #f0f8ff;}#sk-container-id-13 div.sk-toggleable__content pre {margin: 0.2em;color: black;border-radius: 0.25em;background-color: #f0f8ff;}#sk-container-id-13 input.sk-toggleable__control:checked~div.sk-toggleable__content {max-height: 200px;max-width: 100%;overflow: auto;}#sk-container-id-13 input.sk-toggleable__control:checked~label.sk-toggleable__label-arrow:before {content: \"▾\";}#sk-container-id-13 div.sk-estimator input.sk-toggleable__control:checked~label.sk-toggleable__label {background-color: #d4ebff;}#sk-container-id-13 div.sk-label input.sk-toggleable__control:checked~label.sk-toggleable__label {background-color: #d4ebff;}#sk-container-id-13 input.sk-hidden--visually {border: 0;clip: rect(1px 1px 1px 1px);clip: rect(1px, 1px, 1px, 1px);height: 1px;margin: -1px;overflow: hidden;padding: 0;position: absolute;width: 1px;}#sk-container-id-13 div.sk-estimator {font-family: monospace;background-color: #f0f8ff;border: 1px dotted black;border-radius: 0.25em;box-sizing: border-box;margin-bottom: 0.5em;}#sk-container-id-13 div.sk-estimator:hover {background-color: #d4ebff;}#sk-container-id-13 div.sk-parallel-item::after {content: \"\";width: 100%;border-bottom: 1px solid gray;flex-grow: 1;}#sk-container-id-13 div.sk-label:hover label.sk-toggleable__label {background-color: #d4ebff;}#sk-container-id-13 div.sk-serial::before {content: \"\";position: absolute;border-left: 1px solid gray;box-sizing: border-box;top: 0;bottom: 0;left: 50%;z-index: 0;}#sk-container-id-13 div.sk-serial {display: flex;flex-direction: column;align-items: center;background-color: white;padding-right: 0.2em;padding-left: 0.2em;position: relative;}#sk-container-id-13 div.sk-item {position: relative;z-index: 1;}#sk-container-id-13 div.sk-parallel {display: flex;align-items: stretch;justify-content: center;background-color: white;position: relative;}#sk-container-id-13 div.sk-item::before, #sk-container-id-13 div.sk-parallel-item::before {content: \"\";position: absolute;border-left: 1px solid gray;box-sizing: border-box;top: 0;bottom: 0;left: 50%;z-index: -1;}#sk-container-id-13 div.sk-parallel-item {display: flex;flex-direction: column;z-index: 1;position: relative;background-color: white;}#sk-container-id-13 div.sk-parallel-item:first-child::after {align-self: flex-end;width: 50%;}#sk-container-id-13 div.sk-parallel-item:last-child::after {align-self: flex-start;width: 50%;}#sk-container-id-13 div.sk-parallel-item:only-child::after {width: 0;}#sk-container-id-13 div.sk-dashed-wrapped {border: 1px dashed gray;margin: 0 0.4em 0.5em 0.4em;box-sizing: border-box;padding-bottom: 0.4em;background-color: white;}#sk-container-id-13 div.sk-label label {font-family: monospace;font-weight: bold;display: inline-block;line-height: 1.2em;}#sk-container-id-13 div.sk-label-container {text-align: center;}#sk-container-id-13 div.sk-container {/* jupyter's `normalize.less` sets `[hidden] { display: none; }` but bootstrap.min.css set `[hidden] { display: none !important; }` so we also need the `!important` here to be able to override the default hidden behavior on the sphinx rendered scikit-learn.org. See: https://github.com/scikit-learn/scikit-learn/issues/21755 */display: inline-block !important;position: relative;}#sk-container-id-13 div.sk-text-repr-fallback {display: none;}</style><div id=\"sk-container-id-13\" class=\"sk-top-container\"><div class=\"sk-text-repr-fallback\"><pre>GridSearchCV(estimator=RandomForestClassifier(), n_jobs=-1,\n",
       "             param_grid={&#x27;class_weight&#x27;: [&#x27;balanced&#x27;, &#x27;balanced_subsample&#x27;,\n",
       "                                          None],\n",
       "                         &#x27;criterion&#x27;: [&#x27;gini&#x27;, &#x27;entropy&#x27;, &#x27;log_loss&#x27;],\n",
       "                         &#x27;n_estimators&#x27;: [50, 100, 150, 200]},\n",
       "             scoring=&#x27;accuracy&#x27;)</pre><b>In a Jupyter environment, please rerun this cell to show the HTML representation or trust the notebook. <br />On GitHub, the HTML representation is unable to render, please try loading this page with nbviewer.org.</b></div><div class=\"sk-container\" hidden><div class=\"sk-item sk-dashed-wrapped\"><div class=\"sk-label-container\"><div class=\"sk-label sk-toggleable\"><input class=\"sk-toggleable__control sk-hidden--visually\" id=\"sk-estimator-id-31\" type=\"checkbox\" ><label for=\"sk-estimator-id-31\" class=\"sk-toggleable__label sk-toggleable__label-arrow\">GridSearchCV</label><div class=\"sk-toggleable__content\"><pre>GridSearchCV(estimator=RandomForestClassifier(), n_jobs=-1,\n",
       "             param_grid={&#x27;class_weight&#x27;: [&#x27;balanced&#x27;, &#x27;balanced_subsample&#x27;,\n",
       "                                          None],\n",
       "                         &#x27;criterion&#x27;: [&#x27;gini&#x27;, &#x27;entropy&#x27;, &#x27;log_loss&#x27;],\n",
       "                         &#x27;n_estimators&#x27;: [50, 100, 150, 200]},\n",
       "             scoring=&#x27;accuracy&#x27;)</pre></div></div></div><div class=\"sk-parallel\"><div class=\"sk-parallel-item\"><div class=\"sk-item\"><div class=\"sk-label-container\"><div class=\"sk-label sk-toggleable\"><input class=\"sk-toggleable__control sk-hidden--visually\" id=\"sk-estimator-id-32\" type=\"checkbox\" ><label for=\"sk-estimator-id-32\" class=\"sk-toggleable__label sk-toggleable__label-arrow\">estimator: RandomForestClassifier</label><div class=\"sk-toggleable__content\"><pre>RandomForestClassifier()</pre></div></div></div><div class=\"sk-serial\"><div class=\"sk-item\"><div class=\"sk-estimator sk-toggleable\"><input class=\"sk-toggleable__control sk-hidden--visually\" id=\"sk-estimator-id-33\" type=\"checkbox\" ><label for=\"sk-estimator-id-33\" class=\"sk-toggleable__label sk-toggleable__label-arrow\">RandomForestClassifier</label><div class=\"sk-toggleable__content\"><pre>RandomForestClassifier()</pre></div></div></div></div></div></div></div></div></div></div>"
      ],
      "text/plain": [
       "GridSearchCV(estimator=RandomForestClassifier(), n_jobs=-1,\n",
       "             param_grid={'class_weight': ['balanced', 'balanced_subsample',\n",
       "                                          None],\n",
       "                         'criterion': ['gini', 'entropy', 'log_loss'],\n",
       "                         'n_estimators': [50, 100, 150, 200]},\n",
       "             scoring='accuracy')"
      ]
     },
     "execution_count": 137,
     "metadata": {},
     "output_type": "execute_result"
    }
   ],
   "source": [
    "clf = RandomForestClassifier()\n",
    "params = {\n",
    "    'n_estimators': [50, 100, 150, 200],\n",
    "    'criterion': ['gini', 'entropy', 'log_loss'],\n",
    "    'class_weight': ['balanced', 'balanced_subsample', None]\n",
    "}\n",
    "x, y = train_df.drop(columns=['default_12m']), train_df['default_12m']\n",
    "gcv = GridSearchCV(clf, param_grid=params, scoring='accuracy', n_jobs=-1)\n",
    "gcv.fit(x, y)"
   ]
  },
  {
   "cell_type": "code",
   "execution_count": 138,
   "id": "fece4f14",
   "metadata": {},
   "outputs": [
    {
     "name": "stdout",
     "output_type": "stream",
     "text": [
      "93.08 %\n"
     ]
    }
   ],
   "source": [
    "model = gcv.best_estimator_\n",
    "print(round(gcv.best_score_, 4) * 100, '%')"
   ]
  },
  {
   "cell_type": "code",
   "execution_count": 140,
   "id": "1a33e71f",
   "metadata": {},
   "outputs": [],
   "source": [
    "preds = model.predict(test_df)\n",
    "ans = pd.concat([test_df['record_id'], pd.DataFrame(preds)], axis=1)\n",
    "ans.columns = ['id', 'predict']\n",
    "ans = ans.astype(int)\n",
    "ans.to_csv('forest_simple.csv', index=False, sep=';')"
   ]
  },
  {
   "cell_type": "markdown",
   "id": "0d501b06",
   "metadata": {},
   "source": [
    "## Logres clf, best test score 0.495"
   ]
  },
  {
   "cell_type": "code",
   "execution_count": 28,
   "id": "49db1de4",
   "metadata": {},
   "outputs": [],
   "source": [
    "data = train_df.drop(columns=['default_12m'])\n",
    "target = train_df['default_12m']\n",
    "cols = data.columns\n",
    "\n",
    "test = test_df"
   ]
  },
  {
   "cell_type": "markdown",
   "id": "6e072c71",
   "metadata": {},
   "source": [
    "помимо нормализации данных решил проверить фичи на корреляцию, и удалить коррелирующие "
   ]
  },
  {
   "cell_type": "code",
   "execution_count": 29,
   "id": "21986ca9",
   "metadata": {},
   "outputs": [],
   "source": [
    "# delete multicorr features\n",
    "def drop_corr(data):\n",
    "    # Create correlation matrix\n",
    "    corr_matrix = data.corr().abs()\n",
    "\n",
    "    # Select upper triangle of correlation matrix\n",
    "    upper = corr_matrix.where(np.triu(np.ones(corr_matrix.shape), k=1).astype(np.bool))\n",
    "\n",
    "    # Find features with correlation greater than 0.9\n",
    "    to_drop = [column for column in upper.columns if any(upper[column] > 0.9)]\n",
    "\n",
    "    # Drop features \n",
    "    data.drop(to_drop, axis=1, inplace=True)\n",
    "    return data, to_drop"
   ]
  },
  {
   "cell_type": "code",
   "execution_count": 30,
   "id": "e7dd7a5a",
   "metadata": {
    "scrolled": true
   },
   "outputs": [
    {
     "name": "stdout",
     "output_type": "stream",
     "text": [
      "balance logres: 0.6608\n",
      "oversampling logres: 0.6608\n",
      "undersampling 14 logres: 0.9673\n",
      "nearmiss logress: 0.6699\n",
      "adasyn logress: 0.6549\n"
     ]
    }
   ],
   "source": [
    "%%capture --no-stdout\n",
    "\n",
    "# balance weights\n",
    "data = train_df\n",
    "x, y = data.drop(columns=['default_12m']), data['default_12m']\n",
    "x, _ = drop_corr(x)\n",
    "scr = StandardScaler()\n",
    "x = scr.fit_transform(x)\n",
    "auc = np.mean(cross_val_score(LogisticRegression(class_weight='balanced'), x, y, scoring='roc_auc'))\n",
    "print(f'balance logres: {round(res, 4)}')\n",
    "\n",
    "# oversampling\n",
    "data = overs_train\n",
    "x, y = data.drop(columns=['default_12m']), data['default_12m']\n",
    "x, _ = drop_corr(x)\n",
    "scr = StandardScaler()\n",
    "x = scr.fit_transform(x)\n",
    "auc = np.mean(cross_val_score(LogisticRegression(), x, y, scoring='roc_auc'))\n",
    "print(f'oversampling logres: {round(res, 4)}')\n",
    "\n",
    "# undersampling\n",
    "res = 0\n",
    "idz = -1\n",
    "for i in range(15):\n",
    "    data = pd.concat([ones_unders, list_zeros[i]], axis=0).sample(frac=1).reset_index(drop=True)\n",
    "    x, y = data.drop(columns=['default_12m']), data['default_12m']\n",
    "    x, _ = drop_corr(x)\n",
    "    scr = StandardScaler()\n",
    "    x = scr.fit_transform(x)\n",
    "    auc = np.mean(cross_val_score(LogisticRegression(), x, y, scoring='roc_auc'))\n",
    "    if auc > res:\n",
    "        res = auc\n",
    "        idx = i\n",
    "print(f'undersampling {i} logres: {round(res, 4)}')\n",
    "\n",
    "# nearmiss v1\n",
    "X_nm, _ = drop_corr(X_nm)\n",
    "scr = StandardScaler()\n",
    "X_nm = scr.fit_transform(X_nm)\n",
    "res = np.mean(cross_val_score(LogisticRegression(), X_nm, y_nm, scoring='roc_auc'))\n",
    "print(f'nearmiss logress: {round(res, 4)}')\n",
    "\n",
    "# adasyn\n",
    "X_ada, _ = drop_corr(X_ada)\n",
    "scr = StandardScaler()\n",
    "X_ada = scr.fit_transform(X_ada)\n",
    "res = np.mean(cross_val_score(LogisticRegression(), X_ada, y_ada, scoring='roc_auc'))\n",
    "print(f'adasyn logress: {round(res, 4)}')"
   ]
  },
  {
   "cell_type": "code",
   "execution_count": 50,
   "id": "47ad7243",
   "metadata": {
    "scrolled": true
   },
   "outputs": [
    {
     "name": "stdout",
     "output_type": "stream",
     "text": [
      "Fitting 5 folds for each of 45 candidates, totalling 225 fits\n"
     ]
    },
    {
     "name": "stderr",
     "output_type": "stream",
     "text": [
      "/tmp/ipykernel_24997/3847225627.py:6: DeprecationWarning: `np.bool` is a deprecated alias for the builtin `bool`. To silence this warning, use `bool` by itself. Doing this will not modify any behavior and is safe. If you specifically wanted the numpy scalar type, use `np.bool_` here.\n",
      "Deprecated in NumPy 1.20; for more details and guidance: https://numpy.org/devdocs/release/1.20.0-notes.html#deprecations\n",
      "  upper = corr_matrix.where(np.triu(np.ones(corr_matrix.shape), k=1).astype(np.bool))\n"
     ]
    },
    {
     "name": "stdout",
     "output_type": "stream",
     "text": [
      "[CV 3/5; 1/45] START C=0.5, penalty=l2, solver=newton-cg, tol=0.001.............\n",
      "[CV 3/5; 1/45] END C=0.5, penalty=l2, solver=newton-cg, tol=0.001;, score=0.961 total time=   0.1s\n",
      "[CV 1/5; 3/45] START C=0.5, penalty=l2, solver=newton-cg, tol=1e-05.............\n",
      "[CV 1/5; 3/45] END C=0.5, penalty=l2, solver=newton-cg, tol=1e-05;, score=0.946 total time=   0.2s\n",
      "[CV 4/5; 4/45] START C=0.5, penalty=l2, solver=lbfgs, tol=0.001.................\n",
      "[CV 4/5; 4/45] END C=0.5, penalty=l2, solver=lbfgs, tol=0.001;, score=0.976 total time=   0.1s\n",
      "[CV 5/5; 5/45] START C=0.5, penalty=l2, solver=lbfgs, tol=0.0001................\n",
      "[CV 5/5; 5/45] END C=0.5, penalty=l2, solver=lbfgs, tol=0.0001;, score=0.966 total time=   0.1s\n",
      "[CV 5/5; 7/45] START C=0.5, penalty=l2, solver=liblinear, tol=0.001.............\n",
      "[CV 5/5; 7/45] END C=0.5, penalty=l2, solver=liblinear, tol=0.001;, score=0.965 total time=   0.1s\n",
      "[CV 2/5; 9/45] START C=0.5, penalty=l2, solver=liblinear, tol=1e-05.............\n",
      "[CV 2/5; 9/45] END C=0.5, penalty=l2, solver=liblinear, tol=1e-05;, score=0.968 total time=   0.1s\n",
      "[CV 4/5; 10/45] START C=0.5, penalty=l2, solver=sag, tol=0.001..................\n",
      "[CV 4/5; 10/45] END C=0.5, penalty=l2, solver=sag, tol=0.001;, score=0.976 total time=   0.3s\n",
      "[CV 4/5; 12/45] START C=0.5, penalty=l2, solver=sag, tol=1e-05..................\n",
      "[CV 4/5; 12/45] END C=0.5, penalty=l2, solver=sag, tol=1e-05;, score=0.976 total time=   2.0s\n",
      "[CV 5/5; 12/45] START C=0.5, penalty=l2, solver=sag, tol=1e-05..................\n",
      "[CV 5/5; 12/45] END C=0.5, penalty=l2, solver=sag, tol=1e-05;, score=0.966 total time=   2.0s\n",
      "[CV 2/5; 18/45] START C=1.0, penalty=l2, solver=newton-cg, tol=1e-05............\n",
      "[CV 2/5; 18/45] END C=1.0, penalty=l2, solver=newton-cg, tol=1e-05;, score=0.968 total time=   0.1s\n",
      "[CV 3/5; 18/45] START C=1.0, penalty=l2, solver=newton-cg, tol=1e-05............\n",
      "[CV 3/5; 18/45] END C=1.0, penalty=l2, solver=newton-cg, tol=1e-05;, score=0.961 total time=   0.1s\n",
      "[CV 1/5; 19/45] START C=1.0, penalty=l2, solver=lbfgs, tol=0.001................\n",
      "[CV 1/5; 19/45] END C=1.0, penalty=l2, solver=lbfgs, tol=0.001;, score=0.946 total time=   0.0s\n",
      "[CV 3/5; 19/45] START C=1.0, penalty=l2, solver=lbfgs, tol=0.001................\n",
      "[CV 3/5; 19/45] END C=1.0, penalty=l2, solver=lbfgs, tol=0.001;, score=0.961 total time=   0.0s\n",
      "[CV 1/5; 20/45] START C=1.0, penalty=l2, solver=lbfgs, tol=0.0001...............\n",
      "[CV 1/5; 20/45] END C=1.0, penalty=l2, solver=lbfgs, tol=0.0001;, score=0.946 total time=   0.0s\n",
      "[CV 5/5; 20/45] START C=1.0, penalty=l2, solver=lbfgs, tol=0.0001...............\n",
      "[CV 5/5; 20/45] END C=1.0, penalty=l2, solver=lbfgs, tol=0.0001;, score=0.966 total time=   0.0s\n",
      "[CV 3/5; 21/45] START C=1.0, penalty=l2, solver=lbfgs, tol=1e-05................\n",
      "[CV 3/5; 21/45] END C=1.0, penalty=l2, solver=lbfgs, tol=1e-05;, score=0.961 total time=   0.0s\n",
      "[CV 1/5; 22/45] START C=1.0, penalty=l2, solver=liblinear, tol=0.001............\n",
      "[CV 1/5; 22/45] END C=1.0, penalty=l2, solver=liblinear, tol=0.001;, score=0.946 total time=   0.0s\n",
      "[CV 4/5; 22/45] START C=1.0, penalty=l2, solver=liblinear, tol=0.001............\n",
      "[CV 4/5; 22/45] END C=1.0, penalty=l2, solver=liblinear, tol=0.001;, score=0.976 total time=   0.0s\n",
      "[CV 2/5; 23/45] START C=1.0, penalty=l2, solver=liblinear, tol=0.0001...........\n",
      "[CV 2/5; 23/45] END C=1.0, penalty=l2, solver=liblinear, tol=0.0001;, score=0.968 total time=   0.1s\n",
      "[CV 5/5; 23/45] START C=1.0, penalty=l2, solver=liblinear, tol=0.0001...........\n",
      "[CV 5/5; 23/45] END C=1.0, penalty=l2, solver=liblinear, tol=0.0001;, score=0.966 total time=   0.0s\n",
      "[CV 3/5; 24/45] START C=1.0, penalty=l2, solver=liblinear, tol=1e-05............\n",
      "[CV 3/5; 24/45] END C=1.0, penalty=l2, solver=liblinear, tol=1e-05;, score=0.961 total time=   0.0s\n",
      "[CV 1/5; 25/45] START C=1.0, penalty=l2, solver=sag, tol=0.001..................\n",
      "[CV 1/5; 25/45] END C=1.0, penalty=l2, solver=sag, tol=0.001;, score=0.947 total time=   0.4s\n",
      "[CV 2/5; 25/45] START C=1.0, penalty=l2, solver=sag, tol=0.001..................\n",
      "[CV 2/5; 25/45] END C=1.0, penalty=l2, solver=sag, tol=0.001;, score=0.968 total time=   0.5s\n",
      "[CV 1/5; 27/45] START C=1.0, penalty=l2, solver=sag, tol=1e-05..................\n",
      "[CV 1/5; 27/45] END C=1.0, penalty=l2, solver=sag, tol=1e-05;, score=0.946 total time=   3.4s\n",
      "[CV 2/5; 27/45] START C=1.0, penalty=l2, solver=sag, tol=1e-05..................\n",
      "[CV 2/5; 27/45] END C=1.0, penalty=l2, solver=sag, tol=1e-05;, score=0.968 total time=   3.2s\n",
      "[CV 1/5; 31/45] START C=1.5, penalty=l2, solver=newton-cg, tol=0.001............\n",
      "[CV 1/5; 31/45] END C=1.5, penalty=l2, solver=newton-cg, tol=0.001;, score=0.946 total time=   0.0s\n",
      "[CV 2/5; 31/45] START C=1.5, penalty=l2, solver=newton-cg, tol=0.001............\n",
      "[CV 2/5; 31/45] END C=1.5, penalty=l2, solver=newton-cg, tol=0.001;, score=0.968 total time=   0.0s\n",
      "[CV 3/5; 31/45] START C=1.5, penalty=l2, solver=newton-cg, tol=0.001............\n",
      "[CV 3/5; 31/45] END C=1.5, penalty=l2, solver=newton-cg, tol=0.001;, score=0.961 total time=   0.0s\n",
      "[CV 4/5; 31/45] START C=1.5, penalty=l2, solver=newton-cg, tol=0.001............\n",
      "[CV 4/5; 31/45] END C=1.5, penalty=l2, solver=newton-cg, tol=0.001;, score=0.976 total time=   0.0s\n",
      "[CV 5/5; 31/45] START C=1.5, penalty=l2, solver=newton-cg, tol=0.001............\n",
      "[CV 5/5; 31/45] END C=1.5, penalty=l2, solver=newton-cg, tol=0.001;, score=0.966 total time=   0.0s\n",
      "[CV 1/5; 32/45] START C=1.5, penalty=l2, solver=newton-cg, tol=0.0001...........\n",
      "[CV 1/5; 32/45] END C=1.5, penalty=l2, solver=newton-cg, tol=0.0001;, score=0.946 total time=   0.1s\n",
      "[CV 3/5; 32/45] START C=1.5, penalty=l2, solver=newton-cg, tol=0.0001...........\n",
      "[CV 3/5; 32/45] END C=1.5, penalty=l2, solver=newton-cg, tol=0.0001;, score=0.961 total time=   0.0s\n",
      "[CV 4/5; 32/45] START C=1.5, penalty=l2, solver=newton-cg, tol=0.0001...........\n",
      "[CV 4/5; 32/45] END C=1.5, penalty=l2, solver=newton-cg, tol=0.0001;, score=0.976 total time=   0.1s\n",
      "[CV 2/5; 33/45] START C=1.5, penalty=l2, solver=newton-cg, tol=1e-05............\n",
      "[CV 2/5; 33/45] END C=1.5, penalty=l2, solver=newton-cg, tol=1e-05;, score=0.968 total time=   0.1s\n",
      "[CV 5/5; 33/45] START C=1.5, penalty=l2, solver=newton-cg, tol=1e-05............\n",
      "[CV 5/5; 33/45] END C=1.5, penalty=l2, solver=newton-cg, tol=1e-05;, score=0.966 total time=   0.1s\n",
      "[CV 2/5; 34/45] START C=1.5, penalty=l2, solver=lbfgs, tol=0.001................\n",
      "[CV 2/5; 34/45] END C=1.5, penalty=l2, solver=lbfgs, tol=0.001;, score=0.968 total time=   0.0s\n",
      "[CV 5/5; 34/45] START C=1.5, penalty=l2, solver=lbfgs, tol=0.001................\n",
      "[CV 5/5; 34/45] END C=1.5, penalty=l2, solver=lbfgs, tol=0.001;, score=0.966 total time=   0.0s\n",
      "[CV 2/5; 35/45] START C=1.5, penalty=l2, solver=lbfgs, tol=0.0001...............\n",
      "[CV 2/5; 35/45] END C=1.5, penalty=l2, solver=lbfgs, tol=0.0001;, score=0.968 total time=   0.0s\n",
      "[CV 1/5; 36/45] START C=1.5, penalty=l2, solver=lbfgs, tol=1e-05................\n",
      "[CV 1/5; 36/45] END C=1.5, penalty=l2, solver=lbfgs, tol=1e-05;, score=0.946 total time=   0.0s\n",
      "[CV 4/5; 36/45] START C=1.5, penalty=l2, solver=lbfgs, tol=1e-05................\n",
      "[CV 4/5; 36/45] END C=1.5, penalty=l2, solver=lbfgs, tol=1e-05;, score=0.976 total time=   0.0s\n",
      "[CV 2/5; 37/45] START C=1.5, penalty=l2, solver=liblinear, tol=0.001............\n",
      "[CV 2/5; 37/45] END C=1.5, penalty=l2, solver=liblinear, tol=0.001;, score=0.968 total time=   0.0s\n",
      "[CV 5/5; 37/45] START C=1.5, penalty=l2, solver=liblinear, tol=0.001............\n",
      "[CV 5/5; 37/45] END C=1.5, penalty=l2, solver=liblinear, tol=0.001;, score=0.966 total time=   0.0s\n",
      "[CV 3/5; 38/45] START C=1.5, penalty=l2, solver=liblinear, tol=0.0001...........\n",
      "[CV 3/5; 38/45] END C=1.5, penalty=l2, solver=liblinear, tol=0.0001;, score=0.961 total time=   0.0s\n",
      "[CV 1/5; 39/45] START C=1.5, penalty=l2, solver=liblinear, tol=1e-05............\n",
      "[CV 1/5; 39/45] END C=1.5, penalty=l2, solver=liblinear, tol=1e-05;, score=0.946 total time=   0.1s\n",
      "[CV 5/5; 39/45] START C=1.5, penalty=l2, solver=liblinear, tol=1e-05............\n",
      "[CV 5/5; 39/45] END C=1.5, penalty=l2, solver=liblinear, tol=1e-05;, score=0.966 total time=   0.1s\n",
      "[CV 1/5; 40/45] START C=1.5, penalty=l2, solver=sag, tol=0.001..................\n"
     ]
    },
    {
     "data": {
      "text/html": [
       "<style>#sk-container-id-9 {color: black;background-color: white;}#sk-container-id-9 pre{padding: 0;}#sk-container-id-9 div.sk-toggleable {background-color: white;}#sk-container-id-9 label.sk-toggleable__label {cursor: pointer;display: block;width: 100%;margin-bottom: 0;padding: 0.3em;box-sizing: border-box;text-align: center;}#sk-container-id-9 label.sk-toggleable__label-arrow:before {content: \"▸\";float: left;margin-right: 0.25em;color: #696969;}#sk-container-id-9 label.sk-toggleable__label-arrow:hover:before {color: black;}#sk-container-id-9 div.sk-estimator:hover label.sk-toggleable__label-arrow:before {color: black;}#sk-container-id-9 div.sk-toggleable__content {max-height: 0;max-width: 0;overflow: hidden;text-align: left;background-color: #f0f8ff;}#sk-container-id-9 div.sk-toggleable__content pre {margin: 0.2em;color: black;border-radius: 0.25em;background-color: #f0f8ff;}#sk-container-id-9 input.sk-toggleable__control:checked~div.sk-toggleable__content {max-height: 200px;max-width: 100%;overflow: auto;}#sk-container-id-9 input.sk-toggleable__control:checked~label.sk-toggleable__label-arrow:before {content: \"▾\";}#sk-container-id-9 div.sk-estimator input.sk-toggleable__control:checked~label.sk-toggleable__label {background-color: #d4ebff;}#sk-container-id-9 div.sk-label input.sk-toggleable__control:checked~label.sk-toggleable__label {background-color: #d4ebff;}#sk-container-id-9 input.sk-hidden--visually {border: 0;clip: rect(1px 1px 1px 1px);clip: rect(1px, 1px, 1px, 1px);height: 1px;margin: -1px;overflow: hidden;padding: 0;position: absolute;width: 1px;}#sk-container-id-9 div.sk-estimator {font-family: monospace;background-color: #f0f8ff;border: 1px dotted black;border-radius: 0.25em;box-sizing: border-box;margin-bottom: 0.5em;}#sk-container-id-9 div.sk-estimator:hover {background-color: #d4ebff;}#sk-container-id-9 div.sk-parallel-item::after {content: \"\";width: 100%;border-bottom: 1px solid gray;flex-grow: 1;}#sk-container-id-9 div.sk-label:hover label.sk-toggleable__label {background-color: #d4ebff;}#sk-container-id-9 div.sk-serial::before {content: \"\";position: absolute;border-left: 1px solid gray;box-sizing: border-box;top: 0;bottom: 0;left: 50%;z-index: 0;}#sk-container-id-9 div.sk-serial {display: flex;flex-direction: column;align-items: center;background-color: white;padding-right: 0.2em;padding-left: 0.2em;position: relative;}#sk-container-id-9 div.sk-item {position: relative;z-index: 1;}#sk-container-id-9 div.sk-parallel {display: flex;align-items: stretch;justify-content: center;background-color: white;position: relative;}#sk-container-id-9 div.sk-item::before, #sk-container-id-9 div.sk-parallel-item::before {content: \"\";position: absolute;border-left: 1px solid gray;box-sizing: border-box;top: 0;bottom: 0;left: 50%;z-index: -1;}#sk-container-id-9 div.sk-parallel-item {display: flex;flex-direction: column;z-index: 1;position: relative;background-color: white;}#sk-container-id-9 div.sk-parallel-item:first-child::after {align-self: flex-end;width: 50%;}#sk-container-id-9 div.sk-parallel-item:last-child::after {align-self: flex-start;width: 50%;}#sk-container-id-9 div.sk-parallel-item:only-child::after {width: 0;}#sk-container-id-9 div.sk-dashed-wrapped {border: 1px dashed gray;margin: 0 0.4em 0.5em 0.4em;box-sizing: border-box;padding-bottom: 0.4em;background-color: white;}#sk-container-id-9 div.sk-label label {font-family: monospace;font-weight: bold;display: inline-block;line-height: 1.2em;}#sk-container-id-9 div.sk-label-container {text-align: center;}#sk-container-id-9 div.sk-container {/* jupyter's `normalize.less` sets `[hidden] { display: none; }` but bootstrap.min.css set `[hidden] { display: none !important; }` so we also need the `!important` here to be able to override the default hidden behavior on the sphinx rendered scikit-learn.org. See: https://github.com/scikit-learn/scikit-learn/issues/21755 */display: inline-block !important;position: relative;}#sk-container-id-9 div.sk-text-repr-fallback {display: none;}</style><div id=\"sk-container-id-9\" class=\"sk-top-container\"><div class=\"sk-text-repr-fallback\"><pre>GridSearchCV(estimator=LogisticRegression(max_iter=5000), n_jobs=-1,\n",
       "             param_grid={&#x27;C&#x27;: [0.5, 1.0, 1.5], &#x27;penalty&#x27;: [&#x27;l2&#x27;],\n",
       "                         &#x27;solver&#x27;: [&#x27;newton-cg&#x27;, &#x27;lbfgs&#x27;, &#x27;liblinear&#x27;, &#x27;sag&#x27;,\n",
       "                                    &#x27;saga&#x27;],\n",
       "                         &#x27;tol&#x27;: [0.001, 0.0001, 1e-05]},\n",
       "             scoring=&#x27;roc_auc&#x27;, verbose=10)</pre><b>In a Jupyter environment, please rerun this cell to show the HTML representation or trust the notebook. <br />On GitHub, the HTML representation is unable to render, please try loading this page with nbviewer.org.</b></div><div class=\"sk-container\" hidden><div class=\"sk-item sk-dashed-wrapped\"><div class=\"sk-label-container\"><div class=\"sk-label sk-toggleable\"><input class=\"sk-toggleable__control sk-hidden--visually\" id=\"sk-estimator-id-25\" type=\"checkbox\" ><label for=\"sk-estimator-id-25\" class=\"sk-toggleable__label sk-toggleable__label-arrow\">GridSearchCV</label><div class=\"sk-toggleable__content\"><pre>GridSearchCV(estimator=LogisticRegression(max_iter=5000), n_jobs=-1,\n",
       "             param_grid={&#x27;C&#x27;: [0.5, 1.0, 1.5], &#x27;penalty&#x27;: [&#x27;l2&#x27;],\n",
       "                         &#x27;solver&#x27;: [&#x27;newton-cg&#x27;, &#x27;lbfgs&#x27;, &#x27;liblinear&#x27;, &#x27;sag&#x27;,\n",
       "                                    &#x27;saga&#x27;],\n",
       "                         &#x27;tol&#x27;: [0.001, 0.0001, 1e-05]},\n",
       "             scoring=&#x27;roc_auc&#x27;, verbose=10)</pre></div></div></div><div class=\"sk-parallel\"><div class=\"sk-parallel-item\"><div class=\"sk-item\"><div class=\"sk-label-container\"><div class=\"sk-label sk-toggleable\"><input class=\"sk-toggleable__control sk-hidden--visually\" id=\"sk-estimator-id-26\" type=\"checkbox\" ><label for=\"sk-estimator-id-26\" class=\"sk-toggleable__label sk-toggleable__label-arrow\">estimator: LogisticRegression</label><div class=\"sk-toggleable__content\"><pre>LogisticRegression(max_iter=5000)</pre></div></div></div><div class=\"sk-serial\"><div class=\"sk-item\"><div class=\"sk-estimator sk-toggleable\"><input class=\"sk-toggleable__control sk-hidden--visually\" id=\"sk-estimator-id-27\" type=\"checkbox\" ><label for=\"sk-estimator-id-27\" class=\"sk-toggleable__label sk-toggleable__label-arrow\">LogisticRegression</label><div class=\"sk-toggleable__content\"><pre>LogisticRegression(max_iter=5000)</pre></div></div></div></div></div></div></div></div></div></div>"
      ],
      "text/plain": [
       "GridSearchCV(estimator=LogisticRegression(max_iter=5000), n_jobs=-1,\n",
       "             param_grid={'C': [0.5, 1.0, 1.5], 'penalty': ['l2'],\n",
       "                         'solver': ['newton-cg', 'lbfgs', 'liblinear', 'sag',\n",
       "                                    'saga'],\n",
       "                         'tol': [0.001, 0.0001, 1e-05]},\n",
       "             scoring='roc_auc', verbose=10)"
      ]
     },
     "execution_count": 50,
     "metadata": {},
     "output_type": "execute_result"
    }
   ],
   "source": [
    "# %%capture --no-stdout\n",
    "\n",
    "model = LogisticRegression(max_iter=5000)\n",
    "params = {\n",
    "    'penalty': ['l2'],\n",
    "    'solver': ['newton-cg', 'lbfgs', 'liblinear', 'sag', 'saga'],\n",
    "    'tol': [1e-3, 1e-4, 1e-5],\n",
    "    'C': [0.5, 1.0, 1.5]\n",
    "}\n",
    "gcv = GridSearchCV(model, param_grid=params, scoring='roc_auc', n_jobs=-1, verbose=10)\n",
    "data = pd.concat([ones_unders, list_zeros[14]], axis=0).sample(frac=1).reset_index(drop=True)\n",
    "x, y = data.drop(columns=['default_12m']), data['default_12m']\n",
    "x, _ = drop_corr(x)\n",
    "scr = StandardScaler()\n",
    "x = scr.fit_transform(x)\n",
    "gcv.fit(x, y)"
   ]
  },
  {
   "cell_type": "code",
   "execution_count": 51,
   "id": "a4391e5a",
   "metadata": {},
   "outputs": [
    {
     "name": "stdout",
     "output_type": "stream",
     "text": [
      "96.36 %\n"
     ]
    }
   ],
   "source": [
    "model = gcv.best_estimator_\n",
    "print(round(gcv.best_score_, 4) * 100, '%')"
   ]
  },
  {
   "cell_type": "code",
   "execution_count": 112,
   "id": "96d515ac",
   "metadata": {},
   "outputs": [],
   "source": [
    "scr = StandardScaler()\n",
    "test = scr.fit_transform(test_df.drop(_, axis=1))"
   ]
  },
  {
   "cell_type": "code",
   "execution_count": 115,
   "id": "1a3d0ab1",
   "metadata": {},
   "outputs": [],
   "source": [
    "preds = model.predict(test)\n",
    "ans = pd.concat([test_df['record_id'], pd.DataFrame(preds)], axis=1)\n",
    "ans.columns = ['id', 'predict']\n",
    "ans = ans.astype(int)\n",
    "ans.to_csv('logress_undersampling.csv', index=False, sep=';')"
   ]
  },
  {
   "cell_type": "markdown",
   "id": "060547e9",
   "metadata": {},
   "source": [
    "# Выводы\n",
    "\n",
    "Как показывает скор на закрытом датасете, линейная модель показала себя хуже, полагаю, взаимное расположение объектов классов сложо разделить прямой. Полагаю, проблема в разреженности классов (вроде как не то же самое, что и дисбаланс), когда один класс по природе своей встречается много реже другого."
   ]
  }
 ],
 "metadata": {
  "kernelspec": {
   "display_name": "Python 3 (ipykernel)",
   "language": "python",
   "name": "python3"
  },
  "language_info": {
   "codemirror_mode": {
    "name": "ipython",
    "version": 3
   },
   "file_extension": ".py",
   "mimetype": "text/x-python",
   "name": "python",
   "nbconvert_exporter": "python",
   "pygments_lexer": "ipython3",
   "version": "3.10.6"
  }
 },
 "nbformat": 4,
 "nbformat_minor": 5
}
